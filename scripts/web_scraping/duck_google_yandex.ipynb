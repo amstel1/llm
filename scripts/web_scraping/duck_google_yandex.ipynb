{
 "cells": [
  {
   "cell_type": "code",
   "execution_count": 38,
   "id": "90d1bec7-2f4e-4320-8d4c-c05084c51b8e",
   "metadata": {},
   "outputs": [
    {
     "ename": "Error",
     "evalue": "It looks like you are using Playwright Sync API inside the asyncio loop.\nPlease use the Async API instead.",
     "output_type": "error",
     "traceback": [
      "\u001b[0;31m---------------------------------------------------------------------------\u001b[0m",
      "\u001b[0;31mError\u001b[0m                                     Traceback (most recent call last)",
      "Cell \u001b[0;32mIn[38], line 20\u001b[0m\n\u001b[1;32m     17\u001b[0m   url \u001b[38;5;241m+\u001b[39m\u001b[38;5;241m=\u001b[39m \u001b[38;5;124m'\u001b[39m\u001b[38;5;124m&\u001b[39m\u001b[38;5;124m'\u001b[39m \u001b[38;5;241m+\u001b[39m \u001b[38;5;28mstr\u001b[39m(k) \u001b[38;5;241m+\u001b[39m \u001b[38;5;124m'\u001b[39m\u001b[38;5;124m=\u001b[39m\u001b[38;5;124m'\u001b[39m \u001b[38;5;241m+\u001b[39m \u001b[38;5;28mstr\u001b[39m(v)\u001b[38;5;241m.\u001b[39mreplace(\u001b[38;5;124m'\u001b[39m\u001b[38;5;124m \u001b[39m\u001b[38;5;124m'\u001b[39m, \u001b[38;5;124m'\u001b[39m\u001b[38;5;124m+\u001b[39m\u001b[38;5;124m'\u001b[39m)\n\u001b[1;32m     19\u001b[0m \u001b[38;5;28;01mfrom\u001b[39;00m \u001b[38;5;21;01mplaywright\u001b[39;00m\u001b[38;5;21;01m.\u001b[39;00m\u001b[38;5;21;01msync_api\u001b[39;00m \u001b[38;5;28;01mimport\u001b[39;00m sync_playwright\n\u001b[0;32m---> 20\u001b[0m playwright \u001b[38;5;241m=\u001b[39m \u001b[43msync_playwright\u001b[49m\u001b[43m(\u001b[49m\u001b[43m)\u001b[49m\u001b[38;5;241;43m.\u001b[39;49m\u001b[43mstart\u001b[49m\u001b[43m(\u001b[49m\u001b[43m)\u001b[49m\n\u001b[1;32m     21\u001b[0m \u001b[38;5;66;03m# Use playwright.chromium, playwright.firefox or playwright.webkit\u001b[39;00m\n\u001b[1;32m     22\u001b[0m \u001b[38;5;66;03m# Pass headless=False to launch() to see the browser UI\u001b[39;00m\n\u001b[1;32m     23\u001b[0m browser \u001b[38;5;241m=\u001b[39m playwright\u001b[38;5;241m.\u001b[39mfirefox\u001b[38;5;241m.\u001b[39mlaunch(headless\u001b[38;5;241m=\u001b[39m\u001b[38;5;28;01mTrue\u001b[39;00m)\n",
      "File \u001b[0;32m~/miniconda3/envs/langchain/lib/python3.10/site-packages/playwright/sync_api/_context_manager.py:85\u001b[0m, in \u001b[0;36mPlaywrightContextManager.start\u001b[0;34m(self)\u001b[0m\n\u001b[1;32m     84\u001b[0m \u001b[38;5;28;01mdef\u001b[39;00m \u001b[38;5;21mstart\u001b[39m(\u001b[38;5;28mself\u001b[39m) \u001b[38;5;241m-\u001b[39m\u001b[38;5;241m>\u001b[39m SyncPlaywright:\n\u001b[0;32m---> 85\u001b[0m     \u001b[38;5;28;01mreturn\u001b[39;00m \u001b[38;5;28;43mself\u001b[39;49m\u001b[38;5;241;43m.\u001b[39;49m\u001b[38;5;21;43m__enter__\u001b[39;49m\u001b[43m(\u001b[49m\u001b[43m)\u001b[49m\n",
      "File \u001b[0;32m~/miniconda3/envs/langchain/lib/python3.10/site-packages/playwright/sync_api/_context_manager.py:48\u001b[0m, in \u001b[0;36mPlaywrightContextManager.__enter__\u001b[0;34m(self)\u001b[0m\n\u001b[1;32m     46\u001b[0m             \u001b[38;5;28mself\u001b[39m\u001b[38;5;241m.\u001b[39m_own_loop \u001b[38;5;241m=\u001b[39m \u001b[38;5;28;01mTrue\u001b[39;00m\n\u001b[1;32m     47\u001b[0m         \u001b[38;5;28;01mif\u001b[39;00m \u001b[38;5;28mself\u001b[39m\u001b[38;5;241m.\u001b[39m_loop\u001b[38;5;241m.\u001b[39mis_running():\n\u001b[0;32m---> 48\u001b[0m             \u001b[38;5;28;01mraise\u001b[39;00m Error(\n\u001b[1;32m     49\u001b[0m \u001b[38;5;250m                \u001b[39m\u001b[38;5;124;03m\"\"\"It looks like you are using Playwright Sync API inside the asyncio loop.\u001b[39;00m\n\u001b[1;32m     50\u001b[0m \u001b[38;5;124;03mPlease use the Async API instead.\"\"\"\u001b[39;00m\n\u001b[1;32m     51\u001b[0m             )\n\u001b[1;32m     53\u001b[0m         \u001b[38;5;66;03m# Create a new fiber for the protocol dispatcher. It will be pumping events\u001b[39;00m\n\u001b[1;32m     54\u001b[0m         \u001b[38;5;66;03m# until the end of times. We will pass control to that fiber every time we\u001b[39;00m\n\u001b[1;32m     55\u001b[0m         \u001b[38;5;66;03m# block while waiting for a response.\u001b[39;00m\n\u001b[1;32m     56\u001b[0m         \u001b[38;5;28;01mdef\u001b[39;00m \u001b[38;5;21mgreenlet_main\u001b[39m() \u001b[38;5;241m-\u001b[39m\u001b[38;5;241m>\u001b[39m \u001b[38;5;28;01mNone\u001b[39;00m:\n",
      "\u001b[0;31mError\u001b[0m: It looks like you are using Playwright Sync API inside the asyncio loop.\nPlease use the Async API instead."
     ]
    }
   ],
   "source": [
    "from langchain_community.utilities import DuckDuckGoSearchAPIWrapper\n",
    "from langchain_community.tools import DuckDuckGoSearchRun\n",
    "from langchain_community.tools import DuckDuckGoSearchResults\n",
    "from langchain_community.tools.ddg_search.tool import DuckDuckGoSearchRun\n",
    "\n",
    "import requests \n",
    "from bs4 import BeautifulSoup\n",
    "\n",
    "url = 'https://yandex.by/search/'\n",
    "params={\n",
    "        'text':'Xiaomi 14',\n",
    "        'lr':157,\n",
    "        'search_source':'yaby_desktop_common',\n",
    "        'src':'suggest_B',\n",
    "    }\n",
    "for i, (k,v in) enumerate(params.items()):\n",
    "    if i == 0:\n",
    "        prefix = '?'\n",
    "    else:\n",
    "        prefix = '&'\n",
    "      url += prefix + str(k) + '=' + str(v).replace(' ', '+')\n",
    "\n",
    "from playwright.sync_api import sync_playwright\n",
    "playwright = sync_playwright().start()\n",
    "# Use playwright.chromium, playwright.firefox or playwright.webkit\n",
    "# Pass headless=False to launch() to see the browser UI\n",
    "browser = playwright.firefox.launch(headless=True)\n",
    "page = browser.new_page()\n",
    "page.goto(url)\n",
    "page.screenshot(path=\"example2.png\")\n",
    "browser.close()\n",
    "playwright.stop()\n"
   ]
  },
  {
   "cell_type": "code",
   "execution_count": 34,
   "id": "cc34d60c-dfd3-40f4-9f45-9109ccf79600",
   "metadata": {},
   "outputs": [],
   "source": [
    "url += '&' + str(k).replace(' ', '+') + '=' + str(v) "
   ]
  },
  {
   "cell_type": "code",
   "execution_count": 39,
   "id": "6e343c71-87ba-4330-b055-2f83f48b3d85",
   "metadata": {},
   "outputs": [
    {
     "data": {
      "text/plain": [
       "'https://yandex.by/search/&text=Xiaomi+14&lr=157&search_source=yaby_desktop_common&src=suggest_B'"
      ]
     },
     "execution_count": 39,
     "metadata": {},
     "output_type": "execute_result"
    }
   ],
   "source": [
    "url\n"
   ]
  },
  {
   "cell_type": "code",
   "execution_count": 27,
   "id": "434d9f80-779e-4587-8144-159625624e58",
   "metadata": {},
   "outputs": [
    {
     "ename": "NameError",
     "evalue": "name 'page' is not defined",
     "output_type": "error",
     "traceback": [
      "\u001b[0;31m---------------------------------------------------------------------------\u001b[0m",
      "\u001b[0;31mNameError\u001b[0m                                 Traceback (most recent call last)",
      "Cell \u001b[0;32mIn[27], line 1\u001b[0m\n\u001b[0;32m----> 1\u001b[0m \u001b[43mpage\u001b[49m\u001b[38;5;241m.\u001b[39mgoto(url)\n",
      "\u001b[0;31mNameError\u001b[0m: name 'page' is not defined"
     ]
    }
   ],
   "source": []
  },
  {
   "cell_type": "code",
   "execution_count": 19,
   "id": "4969a702-ceef-40df-baac-140a13195673",
   "metadata": {},
   "outputs": [],
   "source": [
    "ua = 'Mozilla/5.0 (X11; Linux x86_64) AppleWebKit/537.36 (KHTML, like Gecko) Chrome/120.0.0.0 Safari/537.36'"
   ]
  },
  {
   "cell_type": "code",
   "execution_count": null,
   "id": "9ba3050f-92cb-4336-ac89-307c2e82a820",
   "metadata": {},
   "outputs": [],
   "source": []
  },
  {
   "cell_type": "code",
   "execution_count": 20,
   "id": "e0e2e2b2-1dc8-48c2-add7-3a4f559353dd",
   "metadata": {},
   "outputs": [],
   "source": [
    "response = requests.get(\n",
    "    url='https://yandex.by/search/',\n",
    "    params={\n",
    "        'text':'Xiaomi 14',\n",
    "        'lr':157,\n",
    "        'search_source':'yaby_desktop_common',\n",
    "        'src':'suggest_B',\n",
    "    },\n",
    "    headers={'User-Agent': ua}\n",
    ")"
   ]
  },
  {
   "cell_type": "code",
   "execution_count": 21,
   "id": "4f058bed-d86c-454b-a73b-e08c861ea410",
   "metadata": {},
   "outputs": [
    {
     "data": {
      "text/plain": [
       "<Response [200]>"
      ]
     },
     "execution_count": 21,
     "metadata": {},
     "output_type": "execute_result"
    }
   ],
   "source": [
    "response"
   ]
  },
  {
   "cell_type": "code",
   "execution_count": 22,
   "id": "ff0ba1d3-a5f9-45cd-bae2-d7d2964c87ae",
   "metadata": {},
   "outputs": [],
   "source": [
    "soup = BeautifulSoup(response.text, \"html.parser\")"
   ]
  },
  {
   "cell_type": "code",
   "execution_count": 23,
   "id": "44339791-c053-4285-aecb-2889329277fa",
   "metadata": {},
   "outputs": [
    {
     "data": {
      "text/plain": [
       "['html',\n",
       " <html prefix=\"og: http://ogp.me/ns#\"><meta content=\"IE=edge\" http-equiv=\"X-UA-Compatible\"/><meta charset=\"utf-8\"/><meta content=\"width=device-width,initial-scale=1\" name=\"viewport\"/>\n",
       " <link href=\"https://yastatic.net/s3/home-static/_/a6/a6a296b741b51880ae8a9b04a67cfe3f.png\" rel=\"icon\" sizes=\"16x16\"/>\n",
       " <link href=\"https://yastatic.net/s3/home-static/_/f4/f47b1b3d8194c36ce660324ab55a04fe.png\" rel=\"icon\" sizes=\"32x32\"/>\n",
       " <link href=\"https://yastatic.net/s3/home-static/_/f0/f0597b6727cc67dceebc4e3a87caf571.png\" rel=\"icon\" sizes=\"192x192\"/>\n",
       " <link href=\"https://yastatic.net/s3/home-static/_/a7/a79b81aa025e9edb2244e38581c868ad.png\" rel=\"apple-touch-icon\" sizes=\"152x152\"/>\n",
       " <link href=\"https://yastatic.net/s3/home-static/_/46/462e92b9e3792be37a1c3fdefb26af28.png\" rel=\"apple-touch-icon\" sizes=\"180x180\"/>\n",
       " <title data-react-helmet=\"true\">ÐÐ¹, ÐÐ°Ð¿ÑÐ°!</title><meta content=\"Ð¯Ð½Ð´ÐµÐºÑ\" data-react-helmet=\"true\" property=\"og:title\"/><meta content=\"ÐÐ°Ð¹Ð´ÑÑÑÑ Ð²ÑÑ\" data-react-helmet=\"true\" property=\"og:description\"/><meta content=\"https://yastatic.net/s3/home-static/_/37/37a02b5dc7a51abac55d8a5b6c865f0e.png\" data-react-helmet=\"true\" property=\"og:image\"/><link href=\"/captcha_smart.98bf502c1f4bc2604139.min.css?k=1710845307528\" rel=\"stylesheet\"/><style>@media only screen and (min-width:651px){body{background-image:url('https://captcha-backgrounds.s3.yandex.net/static/default-background.jpg')}}.LogoLink{background-image:url('data:image/svg+xml;base64,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')}</style><div id=\"root\"><div class=\"Theme Theme_color_yandex-default Theme_root_default\"><div class=\"Container\"><div class=\"Spacer\" style=\"padding-bottom:40px\"><a aria-label=\"Yandex\" class=\"Link Link_view_default LogoLink\" href=\"https://www.ya.ru\"></a></div><form action=\"/checkcaptcha?key=22e97652-5c3c46cb-a47ee38-e6f2edef_2/1712082920/1fc9bc7186fda8d3ba75e4f506812d95_1ece3a026547ad59dee81c9579319284&amp;mt=02C2612CF08818203C1651C185A9CF9898DC8CE499D8D4F3CB39DC7D7452270022A487004C37EAF4D73F5E3B4944BA7F24B7940CAAEB07328AE3CE0811BB3F39530C5349345790B6EC34800DD8853DAA57C6288E7545426D2C897B4287A8A04B71010FBA0954B3DBB8CFC043ED0EE07713FCEE80D9A7D5AD9BEC8B6FB44E2DF1ED4168B09CD920405A82E5B32B2635B9E3799F3211637F3A17F6A89E26E7E6104843445386656B135AF5A0975142411DA386DB41F312A37C242622F445D6C50A1B6ADDE39E421700AE025D3E66129579753874D275CC6DD8D4E5163C7E&amp;retpath=aHR0cHM6Ly95YW5kZXguYnkvc2VhcmNoP3RleHQ9WGlhb21pKzE0JmxyPTE1NyZzZWFyY2hfc291cmNlPXlhYnlfZGVza3RvcF9jb21tb24mc3JjPXN1Z2dlc3RfQg%2C%2C_dbbbc637c055e24db247726672b0ef75&amp;u=45384a2a-5dbfd9c1-a364cf3-5aa04d15&amp;s=4e4e51a942f1b76642d71bd10ba6d9d8\" id=\"checkbox-captcha-form\" method=\"POST\"><div class=\"Spacer\" style=\"padding-bottom:16px\"><span class=\"Text Text_weight_medium Text_typography_headline-s\">ÐÐ¾Ð´ÑÐ²ÐµÑÐ´Ð¸ÑÐµ, ÑÑÐ¾ Ð·Ð°Ð¿ÑÐ¾ÑÑ Ð¾ÑÐ¿ÑÐ°Ð²Ð»ÑÐ»Ð¸ Ð²Ñ, Ð° Ð½Ðµ ÑÐ¾Ð±Ð¾Ñ</span></div><div class=\"Spacer\" style=\"padding-bottom:16px\"><span class=\"Text Text_weight_regular Text_typography_body-long-m\">ÐÐ°Ð¼ Ð¾ÑÐµÐ½Ñ Ð¶Ð°Ð»Ñ, Ð½Ð¾ Ð·Ð°Ð¿ÑÐ¾ÑÑ Ñ Ð²Ð°ÑÐµÐ³Ð¾ ÑÑÑÑÐ¾Ð¹ÑÑÐ²Ð° Ð¿Ð¾Ñ\n",
       " Ð¾Ð¶Ð¸ Ð½Ð° Ð°Ð²ÑÐ¾Ð¼Ð°ÑÐ¸ÑÐµÑÐºÐ¸Ðµ.Â  Â <a class=\"Link Link_view_default\" href=\"https://yandex.ru/support/smart-captcha/problems.html?form-unique_key=45384a2a-5dbfd9c1-a364cf3-5aa04d15\">ÐÐ¾ÑÐµÐ¼Ñ ÑÑÐ¾ Ð¼Ð¾Ð³Ð»Ð¾ Ð¿ÑÐ¾Ð¸Ð·Ð¾Ð¹ÑÐ¸?</a></span></div><noscript><span class=\"Text Text_color_alert Text_weight_medium Text_typography_body-long-m\">Ð£ Ð²Ð°Ñ Ð¾ÑÐºÐ»ÑÑÐµÐ½Ð¾ Ð¸ÑÐ¿Ð¾Ð»Ð½ÐµÐ½Ð¸Ðµ JavaScript. ÐÐ¾ Ð½Ð°Ð¶Ð°ÑÐ¸Ñ Ð²Ñ Ð±ÑÐ´ÐµÑÐµ Ð½Ð°Ð¿ÑÐ°Ð²Ð»ÐµÐ½Ñ Ð½Ð° Ð´Ð¾Ð¿Ð¾Ð»Ð½Ð¸ÑÐµÐ»ÑÐ½ÑÑ Ð¿ÑÐ¾Ð²ÐµÑÐºÑ.Â <a class=\"Link Link_view_default\" href=\"https://yandex.ru/support/common/browsers-settings/browsers-java-js-settings.html\">ÐÐ°Ðº Ð²ÐºÐ»ÑÑÐ¸ÑÑ JavaScript?</a></span></noscript><div class=\"Spacer Spacer_auto-gap_bottom\" style=\"padding-top:40px;padding-bottom:40px\"><div class=\"CheckboxCaptcha\" data-testid=\"checkbox-captcha\"><div class=\"CheckboxCaptcha-Inner\"><div class=\"CheckboxCaptcha-Anchor\"><input aria-checked=\"false\" aria-describedby=\"checkbox-description\" aria-labelledby=\"checkbox-label\" class=\"CheckboxCaptcha-Button\" id=\"js-button\" role=\"checkbox\" type=\"button\"/><noscript><input aria-checked=\"false\" aria-describedby=\"checkbox-description\" aria-labelledby=\"checkbox-label\" class=\"CheckboxCaptcha-Button\" role=\"checkbox\" type=\"submit\"/></noscript><div class=\"CheckboxCaptcha-Checkbox\" data-checked=\"false\"><svg class=\"SvgIcon CheckIcon\" fill=\"none\" height=\"24\" viewbox=\"0 0 24 25\" width=\"24\"><path d=\"M4 12.5L9.5 18.5L20 6.5\" stroke=\"currentColor\" stroke-linecap=\"round\" stroke-linejoin=\"round\" stroke-width=\"3\"></path></svg></div></div><div class=\"CheckboxCaptcha-Label\"><span class=\"Text Text_weight_regular Text_typography_control-xxl CheckboxCaptcha-LabelText\"><span id=\"checkbox-label\">Ð¯ Ð½Ðµ ÑÐ¾Ð±Ð¾ÑÂ </span></span><span class=\"Text Text_color_control-secondary Text_weight_regular Text_typography_control-l CheckboxCaptcha-SecondaryText\"><span id=\"checkbox-description\">ÐÐ°Ð¶Ð¼Ð¸ÑÐµ, ÑÑÐ¾Ð±Ñ Ð¿ÑÐ¾Ð´Ð¾Ð»Ð¶Ð¸ÑÑ</span></span></div></div><div class=\"Text Text_color_ghost Text_weight_regular Text_typography_control-s CaptchaLinks CheckboxCaptcha-Links\"><button aria-label=\"ÐÐ¾ÐºÐ°Ð·Ð°ÑÑ ÑÑÑÐ»ÐºÐ¸\" aria-pressed=\"false\" class=\"CaptchaButton CaptchaButton_view_clear CaptchaButton_size_m CaptchaLinks-ToggleButton CaptchaLinks-ToggleButton_checkbox\" type=\"button\"><svg class=\"SvgIcon\" fill=\"none\" height=\"22\" viewbox=\"0 0 22 22\" width=\"22\" xmlns=\"http://www.w3.org/2000/svg\"><path clip-rule=\"evenodd\" d=\"M11 18.5625C15.1766 18.5625 18.5625 15.1766 18.5625 11C18.5625 6.82334 15.1766 3.4375 11 3.4375C6.82334 3.4375 3.4375 6.82334 3.4375 11C3.4375 15.1766 6.82334 18.5625 11 18.5625ZM11 20.625C16.3157 20.625 20.625 16.3157 20.625 11C20.625 5.68426 16.3157 1.375 11 1.375C5.68426 1.375 1.375 5.68426 1.375 11C1.375 16.3157 5.68426 20.625 11 20.625ZM8.85528 6.24171C9.44645 5.75611 10.2222 5.46546 11 5.46546C12.6736 5.46546 14.2167 6.59336 14.2167 8.409C14.2167 8.92624 14.1095 9.43266 13.8078 9.92185C13.5213 10.3865 13.1023 10.7646 12.6048 11.1132C12.3057 11.3227 12.1569 11.4663 12.0839 11.5642C12.0312 11.6348 12.0312 11.661 12.0313 11.686L12.0313 11.6872C12.0313 12.2567 11.5695 12.7185 11 12.7185C10.4305 12.7185 9.96876 12.2567 9.96876 11.6872C9.96876 10.5945 10.7163 9.9179 11.4214 9.42397C11.806 9.15451 11.9732 8.9675 12.0523 8.83924C12.1163 8.73548 12.1542 8.62111 12.1542 8.409C12.1542 7.9976 11.8192 7.52796 11 7.52796C10.718 7.52796 10.401 7.6411 10.1644 7.83546C9.9342 8.02457 9.84579 8.22978 9.84579 8.409C9.84579 8.97854 9.38408 9.44025 8.81454 9.44025C8.24499 9.44025 7.78329 8.97854 7.78329 8.409C7.78329 7.48351 8.25771 6.73257 8.85528 6.24171ZM11 16.5C11.7594 16.5 12.375 15.8844 12.375 15.125C12.375 14.3656 11.7594 13.75 11 13.75C10.2406 13.75 9.625 14.3656 9.625 15.125C9.625 15.8844 10.2406 16.5 11 16.5Z\" fill=\"currentColor\" fill-rule=\"evenodd\"></path></svg></button><div class=\"CaptchaLinks-Links\"><a class=\"Link Link_color_secondary Link_view_captcha\" color=\"secondary\" href=\"https://cloud.yandex.ru/services/smartcaptcha?utm_source=captcha&amp;utm_medium=chbx&amp;utm_campaign=security\" target=\"_blank\">SmartCaptcha by Yandex Cloud</a></div></div></div></div><input name=\"rdata\" type=\"hidden\"/><input name=\"pdata\" type=\"hidden\" value=\"eyJwb3dDYWxjVGltZSI6LTEsInBvd05vbmNlIjoiIiwicG93UHJlZml4IjoiIn0=\"/><input name=\"tdata\" type=\"hidden\"/><input name=\"picasso\" type=\"hidden\"/></form><span class=\"Text Text_color_ghost Text_weight_regular Text_typography_control-xs\">ÐÑÐ»Ð¸ Ñ Ð²Ð°Ñ Ð²Ð¾Ð·Ð½Ð¸ÐºÐ»Ð¸ Ð¿ÑÐ¾Ð±Ð»ÐµÐ¼Ñ, Ð¿Ð¾Ð¶Ð°Ð»ÑÐ¹ÑÑÐ°, Ð²Ð¾ÑÐ¿Ð¾Ð»ÑÐ·ÑÐ¹ÑÐµÑÑÂ <a class=\"Link Link_view_default\" href=\"https://yandex.ru/support/smart-captcha/problems.html?form-unique_key=45384a2a-5dbfd9c1-a364cf3-5aa04d15\">ÑÐ¾ÑÐ¼Ð¾Ð¹ Ð¾Ð±ÑÐ°ÑÐ½Ð¾Ð¹ ÑÐ²ÑÐ·Ð¸</a></span><div class=\"Spacer\" style=\"padding-top:10px\"><span class=\"Text Text_color_ghost Text_weight_light Text_typography_control-xxs\">45384a2a-5dbfd9c1-a364cf3-5aa04d15:1710845307538</span></div></div></div></div><script>const button=document.getElementById(\"js-button\");button.addEventListener(\"click\",function n(t){window.__JS_BUTTON_CLICKED__=!0,this.removeEventListener(\"click\",n,!1)},!1),window.onerror=function(n,t){0===t.indexOf(window.location.origin+\"/captcha_smart.98bf502c1f4bc2604139.min.js\")&&(button.type=\"submit\",window.Ya&&window.Ya.Rum&&window.Ya.Rum.logEventString&&window.Ya.Rum.logEventString(\"js_fail_force_submit_type\",n,{page:\"checkbox\"}))}</script> <script>window.__SSR_DATA__={url:\"/ru/checkbox\",invalid:\"no\",formAction:\"/checkcaptcha?key=22e97652-5c3c46cb-a47ee38-e6f2edef_2/1712082920/1fc9bc7186fda8d3ba75e4f506812d95_1ece3a026547ad59dee81c9579319284&mt=02C2612CF08818203C1651C185A9CF9898DC8CE499D8D4F3CB39DC7D7452270022A487004C37EAF4D73F5E3B4944BA7F24B7940CAAEB07328AE3CE0811BB3F39530C5349345790B6EC34800DD8853DAA57C6288E7545426D2C897B4287A8A04B71010FBA0954B3DBB8CFC043ED0EE07713FCEE80D9A7D5AD9BEC8B6FB44E2DF1ED4168B09CD920405A82E5B32B2635B9E3799F3211637F3A17F6A89E26E7E6104843445386656B135AF5A0975142411DA386DB41F312A37C242622F445D6C50A1B6ADDE39E421700AE025D3E66129579753874D275CC6DD8D4E5163C7E&retpath=aHR0cHM6Ly95YW5kZXguYnkvc2VhcmNoP3RleHQ9WGlhb21pKzE0JmxyPTE1NyZzZWFyY2hfc291cmNlPXlhYnlfZGVza3RvcF9jb21tb24mc3JjPXN1Z2dlc3RfQg%2C%2C_dbbbc637c055e24db247726672b0ef75&u=45384a2a-5dbfd9c1-a364cf3-5aa04d15&s=4e4e51a942f1b76642d71bd10ba6d9d8\",captchaKey:\"22e97652-5c3c46cb-a47ee38-e6f2edef_2/1712082920/1fc9bc7186fda8d3ba75e4f506812d95_1ece3a026547ad59dee81c9579319284\",imageSrc:\"\",taskImageSrc:\"\",task:\"\",voiceSrc:\"\",introSrc:\"\",aesKey:\"LcDPOlfqINRnkXytgc/pyGFRBueTiAASzpM53XI254E=\",aesSign:\"1_1712082920_7729431128774566931_e64aa1ae3f4e1220a5fa9e1e2c1cf52f\",reqId:\"1712082920482429-11027658696765402104-balancer-l7leveler-kubr-yp-sas-74-BAL\",uniqueKey:\"45384a2a-5dbfd9c1-a364cf3-5aa04d15\",powPrefix:\"743D313731323038323932303B703D32373037356639342D33643737346434392D32306238626463632D61376532313465353B633D31353B643D34344546313538463345333641423338414534413830373842323344304332303B\",powComplexity:\"15\",sitekey:\"\",smartCaptchaHost:\"\"}</script><script crossorigin=\"\" src=\"/captcha_smart_error.98bf502c1f4bc2604139.min.js?k=1710845307528\"></script><script crossorigin=\"\" src=\"/captcha_smart_react.min.js?k=1710845307528\"></script><script crossorigin=\"\" src=\"/captcha_smart.98bf502c1f4bc2604139.min.js?k=1710845307528\"></script><script>!function(e,n,t,a,c){e.ym=e.ym||function(){(e.ym.a=e.ym.a||[]).push(arguments)},e.ym.l=+new Date,a=n.createElement(t),c=n.getElementsByTagName(t)[0],a.async=1,a.src=\"https://mc.yandex.ru/metrika/tag.js\",c.parentNode.insertBefore(a,c)}(window,document,\"script\"),ym(10630330,\"init\",{clickmap:!0,trackLinks:!0,accurateTrackBounce:!0,webvisor:!0,ut:\"noindex\",params:{req_id:\"1712082920482429-11027658696765402104-balancer-l7leveler-kubr-yp-sas-74-BAL\",unique_key:\"45384a2a-5dbfd9c1-a364cf3-5aa04d15\"}})</script><noscript><div><img alt=\"\" src=\"https://mc.yandex.ru/watch/10630330?ut=noindex\" style=\"position:absolute;left:-9999px\"/></div></noscript><div><img alt=\"\" src=\"https://adfstat.yandex.ru/captcha?req_id=1712082920482429-11027658696765402104-balancer-l7leveler-kubr-yp-sas-74-BAL&amp;unique_key=45384a2a-5dbfd9c1-a364cf3-5aa04d15\" style=\"position:absolute;left:-9999px\"/></div></html>]"
      ]
     },
     "execution_count": 23,
     "metadata": {},
     "output_type": "execute_result"
    }
   ],
   "source": [
    "soup.contents"
   ]
  },
  {
   "cell_type": "code",
   "execution_count": 17,
   "id": "504a0b23-4b39-4bc6-88a1-330a9c5eddd1",
   "metadata": {},
   "outputs": [
    {
     "ename": "JavascriptException",
     "evalue": "Message: javascript error: Invalid or unexpected token\n  (Session info: chrome=120.0.6099.71)\nStacktrace:\n#0 0x564f9f274f83 <unknown>\n#1 0x564f9ef2dcf7 <unknown>\n#2 0x564f9ef342a3 <unknown>\n#3 0x564f9ef36bb4 <unknown>\n#4 0x564f9efc6ba3 <unknown>\n#5 0x564f9efa70b2 <unknown>\n#6 0x564f9efc6006 <unknown>\n#7 0x564f9efa6e53 <unknown>\n#8 0x564f9ef6edd4 <unknown>\n#9 0x564f9ef701de <unknown>\n#10 0x564f9f239531 <unknown>\n#11 0x564f9f23d455 <unknown>\n#12 0x564f9f225f55 <unknown>\n#13 0x564f9f23e0ef <unknown>\n#14 0x564f9f20999f <unknown>\n#15 0x564f9f262008 <unknown>\n#16 0x564f9f2621d7 <unknown>\n#17 0x564f9f274124 <unknown>\n#18 0x787605494ac3 <unknown>\n",
     "output_type": "error",
     "traceback": [
      "\u001b[0;31m---------------------------------------------------------------------------\u001b[0m",
      "\u001b[0;31mJavascriptException\u001b[0m                       Traceback (most recent call last)",
      "Cell \u001b[0;32mIn[17], line 7\u001b[0m\n\u001b[1;32m      4\u001b[0m driver\u001b[38;5;241m.\u001b[39mget(\u001b[38;5;124m\"\u001b[39m\u001b[38;5;124mabout:blank\u001b[39m\u001b[38;5;124m\"\u001b[39m)\n\u001b[1;32m      6\u001b[0m data \u001b[38;5;241m=\u001b[39m \u001b[38;5;124m'\u001b[39m\u001b[38;5;124m<h1>test</h1>\u001b[39m\u001b[38;5;124m'\u001b[39m  \u001b[38;5;66;03m# supposed to come from BeautifulSoup\u001b[39;00m\n\u001b[0;32m----> 7\u001b[0m \u001b[43mdriver\u001b[49m\u001b[38;5;241;43m.\u001b[39;49m\u001b[43mexecute_script\u001b[49m\u001b[43m(\u001b[49m\u001b[38;5;124;43m'\u001b[39;49m\u001b[38;5;124;43mdocument.body.innerHTML = \u001b[39;49m\u001b[38;5;124;43m\"\u001b[39;49m\u001b[38;5;132;43;01m{html}\u001b[39;49;00m\u001b[38;5;124;43m\"\u001b[39;49m\u001b[38;5;124;43m;\u001b[39;49m\u001b[38;5;124;43m'\u001b[39;49m\u001b[38;5;241;43m.\u001b[39;49m\u001b[43mformat\u001b[49m\u001b[43m(\u001b[49m\u001b[43mhtml\u001b[49m\u001b[38;5;241;43m=\u001b[39;49m\u001b[43msoup\u001b[49m\u001b[43m)\u001b[49m\u001b[43m)\u001b[49m\n",
      "File \u001b[0;32m~/miniconda3/envs/langchain/lib/python3.10/site-packages/selenium/webdriver/remote/webdriver.py:407\u001b[0m, in \u001b[0;36mWebDriver.execute_script\u001b[0;34m(self, script, *args)\u001b[0m\n\u001b[1;32m    404\u001b[0m converted_args \u001b[38;5;241m=\u001b[39m \u001b[38;5;28mlist\u001b[39m(args)\n\u001b[1;32m    405\u001b[0m command \u001b[38;5;241m=\u001b[39m Command\u001b[38;5;241m.\u001b[39mW3C_EXECUTE_SCRIPT\n\u001b[0;32m--> 407\u001b[0m \u001b[38;5;28;01mreturn\u001b[39;00m \u001b[38;5;28;43mself\u001b[39;49m\u001b[38;5;241;43m.\u001b[39;49m\u001b[43mexecute\u001b[49m\u001b[43m(\u001b[49m\u001b[43mcommand\u001b[49m\u001b[43m,\u001b[49m\u001b[43m \u001b[49m\u001b[43m{\u001b[49m\u001b[38;5;124;43m\"\u001b[39;49m\u001b[38;5;124;43mscript\u001b[39;49m\u001b[38;5;124;43m\"\u001b[39;49m\u001b[43m:\u001b[49m\u001b[43m \u001b[49m\u001b[43mscript\u001b[49m\u001b[43m,\u001b[49m\u001b[43m \u001b[49m\u001b[38;5;124;43m\"\u001b[39;49m\u001b[38;5;124;43margs\u001b[39;49m\u001b[38;5;124;43m\"\u001b[39;49m\u001b[43m:\u001b[49m\u001b[43m \u001b[49m\u001b[43mconverted_args\u001b[49m\u001b[43m}\u001b[49m\u001b[43m)\u001b[49m[\u001b[38;5;124m\"\u001b[39m\u001b[38;5;124mvalue\u001b[39m\u001b[38;5;124m\"\u001b[39m]\n",
      "File \u001b[0;32m~/miniconda3/envs/langchain/lib/python3.10/site-packages/selenium/webdriver/remote/webdriver.py:347\u001b[0m, in \u001b[0;36mWebDriver.execute\u001b[0;34m(self, driver_command, params)\u001b[0m\n\u001b[1;32m    345\u001b[0m response \u001b[38;5;241m=\u001b[39m \u001b[38;5;28mself\u001b[39m\u001b[38;5;241m.\u001b[39mcommand_executor\u001b[38;5;241m.\u001b[39mexecute(driver_command, params)\n\u001b[1;32m    346\u001b[0m \u001b[38;5;28;01mif\u001b[39;00m response:\n\u001b[0;32m--> 347\u001b[0m     \u001b[38;5;28;43mself\u001b[39;49m\u001b[38;5;241;43m.\u001b[39;49m\u001b[43merror_handler\u001b[49m\u001b[38;5;241;43m.\u001b[39;49m\u001b[43mcheck_response\u001b[49m\u001b[43m(\u001b[49m\u001b[43mresponse\u001b[49m\u001b[43m)\u001b[49m\n\u001b[1;32m    348\u001b[0m     response[\u001b[38;5;124m\"\u001b[39m\u001b[38;5;124mvalue\u001b[39m\u001b[38;5;124m\"\u001b[39m] \u001b[38;5;241m=\u001b[39m \u001b[38;5;28mself\u001b[39m\u001b[38;5;241m.\u001b[39m_unwrap_value(response\u001b[38;5;241m.\u001b[39mget(\u001b[38;5;124m\"\u001b[39m\u001b[38;5;124mvalue\u001b[39m\u001b[38;5;124m\"\u001b[39m, \u001b[38;5;28;01mNone\u001b[39;00m))\n\u001b[1;32m    349\u001b[0m     \u001b[38;5;28;01mreturn\u001b[39;00m response\n",
      "File \u001b[0;32m~/miniconda3/envs/langchain/lib/python3.10/site-packages/selenium/webdriver/remote/errorhandler.py:229\u001b[0m, in \u001b[0;36mErrorHandler.check_response\u001b[0;34m(self, response)\u001b[0m\n\u001b[1;32m    227\u001b[0m         alert_text \u001b[38;5;241m=\u001b[39m value[\u001b[38;5;124m\"\u001b[39m\u001b[38;5;124malert\u001b[39m\u001b[38;5;124m\"\u001b[39m]\u001b[38;5;241m.\u001b[39mget(\u001b[38;5;124m\"\u001b[39m\u001b[38;5;124mtext\u001b[39m\u001b[38;5;124m\"\u001b[39m)\n\u001b[1;32m    228\u001b[0m     \u001b[38;5;28;01mraise\u001b[39;00m exception_class(message, screen, stacktrace, alert_text)  \u001b[38;5;66;03m# type: ignore[call-arg]  # mypy is not smart enough here\u001b[39;00m\n\u001b[0;32m--> 229\u001b[0m \u001b[38;5;28;01mraise\u001b[39;00m exception_class(message, screen, stacktrace)\n",
      "\u001b[0;31mJavascriptException\u001b[0m: Message: javascript error: Invalid or unexpected token\n  (Session info: chrome=120.0.6099.71)\nStacktrace:\n#0 0x564f9f274f83 <unknown>\n#1 0x564f9ef2dcf7 <unknown>\n#2 0x564f9ef342a3 <unknown>\n#3 0x564f9ef36bb4 <unknown>\n#4 0x564f9efc6ba3 <unknown>\n#5 0x564f9efa70b2 <unknown>\n#6 0x564f9efc6006 <unknown>\n#7 0x564f9efa6e53 <unknown>\n#8 0x564f9ef6edd4 <unknown>\n#9 0x564f9ef701de <unknown>\n#10 0x564f9f239531 <unknown>\n#11 0x564f9f23d455 <unknown>\n#12 0x564f9f225f55 <unknown>\n#13 0x564f9f23e0ef <unknown>\n#14 0x564f9f20999f <unknown>\n#15 0x564f9f262008 <unknown>\n#16 0x564f9f2621d7 <unknown>\n#17 0x564f9f274124 <unknown>\n#18 0x787605494ac3 <unknown>\n"
     ]
    }
   ],
   "source": [
    "from selenium import webdriver\n",
    "\n",
    "driver = webdriver.Chrome()  # can be webdriver.Chrome()\n",
    "driver.get(\"about:blank\")\n",
    "\n",
    "data = '<h1>test</h1>'  # supposed to come from BeautifulSoup\n",
    "driver.execute_script('document.body.innerHTML = \"{html}\";'.format(html=soup))"
   ]
  },
  {
   "cell_type": "code",
   "execution_count": 22,
   "id": "b887ce82-c7cb-49fa-a85a-cb0da140367c",
   "metadata": {},
   "outputs": [
    {
     "name": "stdout",
     "output_type": "stream",
     "text": [
      "Collecting selenium\n",
      "  Downloading selenium-4.19.0-py3-none-any.whl.metadata (6.9 kB)\n",
      "Requirement already satisfied: urllib3<3,>=1.26 in /home/amstel/miniconda3/envs/langchain/lib/python3.10/site-packages (from urllib3[socks]<3,>=1.26->selenium) (2.2.1)\n",
      "Collecting trio~=0.17 (from selenium)\n",
      "  Downloading trio-0.25.0-py3-none-any.whl.metadata (8.7 kB)\n",
      "Collecting trio-websocket~=0.9 (from selenium)\n",
      "  Downloading trio_websocket-0.11.1-py3-none-any.whl.metadata (4.7 kB)\n",
      "Requirement already satisfied: certifi>=2021.10.8 in /home/amstel/miniconda3/envs/langchain/lib/python3.10/site-packages (from selenium) (2024.2.2)\n",
      "Collecting typing_extensions>=4.9.0 (from selenium)\n",
      "  Using cached typing_extensions-4.10.0-py3-none-any.whl.metadata (3.0 kB)\n",
      "Collecting attrs>=23.2.0 (from trio~=0.17->selenium)\n",
      "  Downloading attrs-23.2.0-py3-none-any.whl.metadata (9.5 kB)\n",
      "Collecting sortedcontainers (from trio~=0.17->selenium)\n",
      "  Downloading sortedcontainers-2.4.0-py2.py3-none-any.whl.metadata (10 kB)\n",
      "Requirement already satisfied: idna in /home/amstel/miniconda3/envs/langchain/lib/python3.10/site-packages (from trio~=0.17->selenium) (3.6)\n",
      "Collecting outcome (from trio~=0.17->selenium)\n",
      "  Downloading outcome-1.3.0.post0-py2.py3-none-any.whl.metadata (2.6 kB)\n",
      "Requirement already satisfied: sniffio>=1.3.0 in /home/amstel/.local/lib/python3.10/site-packages (from trio~=0.17->selenium) (1.3.0)\n",
      "Requirement already satisfied: exceptiongroup in /home/amstel/.local/lib/python3.10/site-packages (from trio~=0.17->selenium) (1.2.0)\n",
      "Collecting wsproto>=0.14 (from trio-websocket~=0.9->selenium)\n",
      "  Downloading wsproto-1.2.0-py3-none-any.whl.metadata (5.6 kB)\n",
      "Collecting pysocks!=1.5.7,<2.0,>=1.5.6 (from urllib3[socks]<3,>=1.26->selenium)\n",
      "  Downloading PySocks-1.7.1-py3-none-any.whl.metadata (13 kB)\n",
      "Requirement already satisfied: h11<1,>=0.9.0 in /home/amstel/miniconda3/envs/langchain/lib/python3.10/site-packages (from wsproto>=0.14->trio-websocket~=0.9->selenium) (0.14.0)\n",
      "Downloading selenium-4.19.0-py3-none-any.whl (10.5 MB)\n",
      "\u001b[2K   \u001b[38;2;114;156;31m━━━━━━━━━━━━━━━━━━━━━━━━━━━━━━━━━━━━━━━━\u001b[0m \u001b[32m10.5/10.5 MB\u001b[0m \u001b[31m10.8 MB/s\u001b[0m eta \u001b[36m0:00:00\u001b[0mm eta \u001b[36m0:00:01\u001b[0m0:01\u001b[0m01\u001b[0m\n",
      "\u001b[?25hDownloading trio-0.25.0-py3-none-any.whl (467 kB)\n",
      "\u001b[2K   \u001b[38;2;114;156;31m━━━━━━━━━━━━━━━━━━━━━━━━━━━━━━━━━━━━━━━━\u001b[0m \u001b[32m467.2/467.2 kB\u001b[0m \u001b[31m9.4 MB/s\u001b[0m eta \u001b[36m0:00:00\u001b[0m6 MB/s\u001b[0m eta \u001b[36m0:00:01\u001b[0m\n",
      "\u001b[?25hDownloading trio_websocket-0.11.1-py3-none-any.whl (17 kB)\n",
      "Using cached typing_extensions-4.10.0-py3-none-any.whl (33 kB)\n",
      "Downloading attrs-23.2.0-py3-none-any.whl (60 kB)\n",
      "\u001b[2K   \u001b[38;2;114;156;31m━━━━━━━━━━━━━━━━━━━━━━━━━━━━━━━━━━━━━━━━\u001b[0m \u001b[32m60.8/60.8 kB\u001b[0m \u001b[31m6.8 MB/s\u001b[0m eta \u001b[36m0:00:00\u001b[0m\n",
      "\u001b[?25hDownloading PySocks-1.7.1-py3-none-any.whl (16 kB)\n",
      "Downloading wsproto-1.2.0-py3-none-any.whl (24 kB)\n",
      "Downloading outcome-1.3.0.post0-py2.py3-none-any.whl (10 kB)\n",
      "Downloading sortedcontainers-2.4.0-py2.py3-none-any.whl (29 kB)\n",
      "Installing collected packages: sortedcontainers, wsproto, typing_extensions, pysocks, attrs, outcome, trio, trio-websocket, selenium\n",
      "  Attempting uninstall: typing_extensions\n",
      "    Found existing installation: typing_extensions 4.8.0\n",
      "    Uninstalling typing_extensions-4.8.0:\n",
      "      Successfully uninstalled typing_extensions-4.8.0\n",
      "  Attempting uninstall: attrs\n",
      "    Found existing installation: attrs 23.1.0\n",
      "    Uninstalling attrs-23.1.0:\n",
      "      Successfully uninstalled attrs-23.1.0\n",
      "Successfully installed attrs-23.2.0 outcome-1.3.0.post0 pysocks-1.7.1 selenium-4.19.0 sortedcontainers-2.4.0 trio-0.25.0 trio-websocket-0.11.1 typing_extensions-4.10.0 wsproto-1.2.0\n"
     ]
    }
   ],
   "source": [
    "!pip install selenium"
   ]
  },
  {
   "cell_type": "code",
   "execution_count": null,
   "id": "78040c78-21be-4203-95d9-caaf2b62bbad",
   "metadata": {},
   "outputs": [],
   "source": []
  },
  {
   "cell_type": "code",
   "execution_count": 20,
   "id": "65c2c347-f9ae-47aa-a253-74ca198453fa",
   "metadata": {},
   "outputs": [
    {
     "data": {
      "text/plain": [
       "bs4.BeautifulSoup"
      ]
     },
     "execution_count": 20,
     "metadata": {},
     "output_type": "execute_result"
    }
   ],
   "source": [
    "type(soup)"
   ]
  },
  {
   "cell_type": "code",
   "execution_count": null,
   "id": "5a2a5e15-edd5-41ba-8a13-f1cc9aeaa017",
   "metadata": {},
   "outputs": [],
   "source": [
    "start=0\n",
    "  &num=10\n",
    "  &q=red+sox\n",
    "  &cr=countryCA\n",
    "  &lr=lang_fr\n",
    "  &client=google-csbe\n",
    "  &output=xml_no_dtd\n",
    "  &cx=00255077836266642015:u-scht7a-8i"
   ]
  },
  {
   "cell_type": "code",
   "execution_count": 10,
   "id": "26bbd42a-b599-44d0-90be-dab516f058db",
   "metadata": {},
   "outputs": [],
   "source": [
    "with open('google_res.html', 'w') as f:\n",
    "    f.write(response.text)\n",
    "# response.text"
   ]
  },
  {
   "cell_type": "code",
   "execution_count": 13,
   "id": "ebc247e4-b529-4473-ae20-2a1692d6ff4a",
   "metadata": {
    "scrolled": true
   },
   "outputs": [],
   "source": [
    "\n",
    "\n",
    "headers_Get = {\n",
    "        'User-Agent': 'Mozilla/5.0 (Windows NT 6.1; WOW64; rv:49.0) Gecko/20100101 Firefox/49.0',\n",
    "        'Accept': 'text/html,application/xhtml+xml,application/xml;q=0.9,*/*;q=0.8',\n",
    "        'Accept-Language': 'en-US,en;q=0.5',\n",
    "        'Accept-Encoding': 'gzip, deflate',\n",
    "        'DNT': '1',\n",
    "        'Connection': 'keep-alive',\n",
    "        'Upgrade-Insecure-Requests': '1'\n",
    "    }\n",
    "\n",
    "\n",
    "def google(q):\n",
    "    s = requests.Session()\n",
    "    q = '+'.join(q.split())\n",
    "    url = 'https://www.google.com/search?q=' + q + '&ie=utf-8&oe=utf-8'\n",
    "    r = s.get(url, headers=headers_Get)\n",
    "\n",
    "    soup = BeautifulSoup(r.text, \"html.parser\")\n",
    "    output = []\n",
    "    for searchWrapper in soup.find_all('h3', {'class':'r'}): #this line may change in future based on google's web page structure\n",
    "        url = searchWrapper.find('a')[\"href\"] \n",
    "        text = searchWrapper.find('a').text.strip()\n",
    "        result = {'text': text, 'url': url}\n",
    "        output.append(result)\n",
    "\n",
    "    return output"
   ]
  },
  {
   "cell_type": "code",
   "execution_count": 14,
   "id": "30266cd9-b4fd-41f2-8007-4a21e0555e36",
   "metadata": {},
   "outputs": [],
   "source": [
    "output = google('Xiaomi 14')"
   ]
  },
  {
   "cell_type": "code",
   "execution_count": 15,
   "id": "3ea33966-8ab7-4302-a639-1adfcaba17e2",
   "metadata": {},
   "outputs": [
    {
     "data": {
      "text/plain": [
       "[]"
      ]
     },
     "execution_count": 15,
     "metadata": {},
     "output_type": "execute_result"
    }
   ],
   "source": [
    "output"
   ]
  },
  {
   "cell_type": "code",
   "execution_count": 35,
   "id": "df77cc8b-4870-45ea-839b-b9b9663cf439",
   "metadata": {},
   "outputs": [
    {
     "ename": "ValidationError",
     "evalue": "1 validation error for GoogleSearchAPIWrapper\n__root__\n  Did not find google_api_key, please add an environment variable `GOOGLE_API_KEY` which contains it, or pass `google_api_key` as a named parameter. (type=value_error)",
     "output_type": "error",
     "traceback": [
      "\u001b[0;31m---------------------------------------------------------------------------\u001b[0m",
      "\u001b[0;31mValidationError\u001b[0m                           Traceback (most recent call last)",
      "Cell \u001b[0;32mIn[35], line 4\u001b[0m\n\u001b[1;32m      1\u001b[0m \u001b[38;5;28;01mfrom\u001b[39;00m \u001b[38;5;21;01mlangchain_community\u001b[39;00m\u001b[38;5;21;01m.\u001b[39;00m\u001b[38;5;21;01mutilities\u001b[39;00m \u001b[38;5;28;01mimport\u001b[39;00m GoogleSearchAPIWrapper\n\u001b[1;32m      2\u001b[0m \u001b[38;5;28;01mfrom\u001b[39;00m \u001b[38;5;21;01mlangchain_core\u001b[39;00m\u001b[38;5;21;01m.\u001b[39;00m\u001b[38;5;21;01mtools\u001b[39;00m \u001b[38;5;28;01mimport\u001b[39;00m Tool\n\u001b[0;32m----> 4\u001b[0m search \u001b[38;5;241m=\u001b[39m \u001b[43mGoogleSearchAPIWrapper\u001b[49m\u001b[43m(\u001b[49m\u001b[43m)\u001b[49m\n\u001b[1;32m      6\u001b[0m tool \u001b[38;5;241m=\u001b[39m Tool(\n\u001b[1;32m      7\u001b[0m     name\u001b[38;5;241m=\u001b[39m\u001b[38;5;124m\"\u001b[39m\u001b[38;5;124mgoogle_search\u001b[39m\u001b[38;5;124m\"\u001b[39m,\n\u001b[1;32m      8\u001b[0m     description\u001b[38;5;241m=\u001b[39m\u001b[38;5;124m\"\u001b[39m\u001b[38;5;124mSearch Google for recent results.\u001b[39m\u001b[38;5;124m\"\u001b[39m,\n\u001b[1;32m      9\u001b[0m     func\u001b[38;5;241m=\u001b[39msearch\u001b[38;5;241m.\u001b[39mrun,\n\u001b[1;32m     10\u001b[0m )\n",
      "File \u001b[0;32m~/miniconda3/envs/langchain/lib/python3.10/site-packages/pydantic/v1/main.py:341\u001b[0m, in \u001b[0;36mBaseModel.__init__\u001b[0;34m(__pydantic_self__, **data)\u001b[0m\n\u001b[1;32m    339\u001b[0m values, fields_set, validation_error \u001b[38;5;241m=\u001b[39m validate_model(__pydantic_self__\u001b[38;5;241m.\u001b[39m\u001b[38;5;18m__class__\u001b[39m, data)\n\u001b[1;32m    340\u001b[0m \u001b[38;5;28;01mif\u001b[39;00m validation_error:\n\u001b[0;32m--> 341\u001b[0m     \u001b[38;5;28;01mraise\u001b[39;00m validation_error\n\u001b[1;32m    342\u001b[0m \u001b[38;5;28;01mtry\u001b[39;00m:\n\u001b[1;32m    343\u001b[0m     object_setattr(__pydantic_self__, \u001b[38;5;124m'\u001b[39m\u001b[38;5;124m__dict__\u001b[39m\u001b[38;5;124m'\u001b[39m, values)\n",
      "\u001b[0;31mValidationError\u001b[0m: 1 validation error for GoogleSearchAPIWrapper\n__root__\n  Did not find google_api_key, please add an environment variable `GOOGLE_API_KEY` which contains it, or pass `google_api_key` as a named parameter. (type=value_error)"
     ]
    }
   ],
   "source": [
    "from langchain_community.utilities import GoogleSearchAPIWrapper\n",
    "from langchain_core.tools import Tool\n",
    "\n",
    "search = GoogleSearchAPIWrapper()\n",
    "\n",
    "tool = Tool(\n",
    "    name=\"google_search\",\n",
    "    description=\"Search Google for recent results.\",\n",
    "    func=search.run,\n",
    ")"
   ]
  },
  {
   "cell_type": "code",
   "execution_count": null,
   "id": "2ac1ffad-a67b-48ef-861f-86ce5597724c",
   "metadata": {},
   "outputs": [],
   "source": []
  },
  {
   "cell_type": "code",
   "execution_count": 25,
   "id": "9a505341-f548-467e-bc23-4483b9d9db11",
   "metadata": {},
   "outputs": [],
   "source": [
    "import requests"
   ]
  },
  {
   "cell_type": "code",
   "execution_count": 26,
   "id": "f91251e8-2448-4e58-91a3-d00ebdbc36e0",
   "metadata": {},
   "outputs": [],
   "source": [
    "user_query = 'яндекс маркет отзывы Xiaomi 14'\n",
    "query = f'https://www.google.com/search?q={user_query}'"
   ]
  },
  {
   "cell_type": "code",
   "execution_count": 27,
   "id": "ec1b65ff-a65a-4f81-87fa-f2ac2a1491e0",
   "metadata": {},
   "outputs": [],
   "source": [
    "results = requests.get(query)"
   ]
  },
  {
   "cell_type": "code",
   "execution_count": null,
   "id": "b56e1d46-1c3e-4b76-b8ad-b709b4996ca7",
   "metadata": {},
   "outputs": [],
   "source": []
  },
  {
   "cell_type": "code",
   "execution_count": null,
   "id": "dc20e9e9-8062-40a4-95d5-b720bb4a5a65",
   "metadata": {},
   "outputs": [],
   "source": []
  },
  {
   "cell_type": "code",
   "execution_count": null,
   "id": "e7598a02-92b4-47ad-8b8e-6130a2074d3b",
   "metadata": {},
   "outputs": [],
   "source": []
  },
  {
   "cell_type": "code",
   "execution_count": 20,
   "id": "cba389c7-de4f-4f48-bbb5-03d569e9b54b",
   "metadata": {},
   "outputs": [],
   "source": [
    "search = DuckDuckGoSearchAPIWrapper(region=\"ru-ru\", time=\"d\", max_results=20, backend='html')\n",
    "# searching_tool = DuckDuckGoSearchResults(api_wrapper=search,)"
   ]
  },
  {
   "cell_type": "code",
   "execution_count": 21,
   "id": "367f2085-22c3-4515-8be5-912bc7aa84a0",
   "metadata": {},
   "outputs": [],
   "source": [
    "result = searching_tool.invoke('яндекс маркет отзывы')"
   ]
  },
  {
   "cell_type": "code",
   "execution_count": 22,
   "id": "ec4ccbc3-db2c-40de-9262-d302a2bdb11c",
   "metadata": {},
   "outputs": [],
   "source": [
    "search_run = DuckDuckGoSearchRun()"
   ]
  },
  {
   "cell_type": "code",
   "execution_count": 11,
   "id": "01d18638-7db8-4d28-bff4-35c4ebe32ab0",
   "metadata": {},
   "outputs": [],
   "source": [
    "result = search_run.invoke('яндекс маркет отзывы')"
   ]
  },
  {
   "cell_type": "code",
   "execution_count": 14,
   "id": "8014905c-6482-48c0-a022-66a67641e96f",
   "metadata": {},
   "outputs": [
    {
     "ename": "AttributeError",
     "evalue": "'DuckDuckGoSearchAPIWrapper' object has no attribute 'invoke'",
     "output_type": "error",
     "traceback": [
      "\u001b[0;31m---------------------------------------------------------------------------\u001b[0m",
      "\u001b[0;31mAttributeError\u001b[0m                            Traceback (most recent call last)",
      "Cell \u001b[0;32mIn[14], line 1\u001b[0m\n\u001b[0;32m----> 1\u001b[0m \u001b[43msearch\u001b[49m\u001b[38;5;241;43m.\u001b[39;49m\u001b[43minvoke\u001b[49m(\u001b[38;5;124m'\u001b[39m\u001b[38;5;124mяндекс маркет отзывы\u001b[39m\u001b[38;5;124m'\u001b[39m)\n",
      "\u001b[0;31mAttributeError\u001b[0m: 'DuckDuckGoSearchAPIWrapper' object has no attribute 'invoke'"
     ]
    }
   ],
   "source": [
    "search.invoke('яндекс маркет отзывы')"
   ]
  },
  {
   "cell_type": "code",
   "execution_count": 23,
   "id": "e502c359-d88d-4535-ac5e-4625fc3b4b32",
   "metadata": {},
   "outputs": [
    {
     "data": {
      "text/plain": [
       "'В DNS — 65 999 ₽ на «Яндекс Маркете» — от 50 959 ₽ ... тесты коллег-журналистов и отзывы пользователей, мы отобрали лучшие ноутбуки в бюджете до 70 000 ₽. ... Xiaomi Redmi Book Pro 14. Asus VivoBook 17 X1704ZA-AU121W. Изучаете отзывы про ТОП—7. Лучшие ноутбуки 13-14 дюймов. Рейтинг 2023 года!? Почитайте свежие реальные отзывы от имени бывших сотрудников на сайте shitcompany.org Стоит ли покупать Xiaomi Poco F5 Pro зимой 2023-2024 года? / Арстайл / - тема важная и интересная, поэтому наша редакция подготовила подробный разбор этой темы на сайте mnogorabotnikov.ru Лучшие смартфоны без ШИМ: Топ-5 смартфонов с IPS-экраном 📱 Рейтинг 2024 года - тема важная и интересная, поэтому наша редакция подготовила подробный разбор этой темы на сайте mnogorabotnikov.ru Изучаете отзывы про ТОП-6. Лучшие ноутбуки для работы и учебы ⚡ Рейтинг 2024 года по цене-качеству? Почитайте свежие реальные отзывы от имени бывших сотрудников на сайте shitcompany.org От 5 до 10 тысяч рублей выручают 16% респондентов, от 10 до 30 тыс. руб. в месяц — 9%, более 30 тыс. руб. — всего 8%. Еще 14% решили не оглашать свой доход. Осознанное потребление и экономия — драйверы ... Изучаете отзывы про ТОП-6. Лучшие планшеты по соотношению цены-качества📋. Рейтинг 2024 года🔥. Какой лучше купить?? Почитайте свежие реальные отзывы от имени бывших сотрудников на сайте shitcompany.org Почитайте свежие реальные отзывы от имени бывших сотрудников на сайте shitcompany.org. ... Xiaomi, Roborock, Atvel, Hobot и тд. НЕ НАЖИМАТЬ https://clck.ru/XWARX. Atvel R70 Я. Маркет — https://ya.cc/m/Sxxb3RI ... 14 Wollmer F550 Sapphire 02:09 REDMOND RV-R670s 03: ... Скачать Retouch удаление объектов с фото для Андроид бесплатно последнюю версию 2024 года APK и с Google Play на русском языке. Загрузить и установить Retouch APK - Пик Ретач без регистрации на телефон, смартфон и планшет с рейтингом 4. ... Изучаете отзывы про [Обзор] Яндекс станция Макс с Zigbee Умный дом с Алисой 🏡? Почитайте свежие реальные отзывы от имени бывших сотрудников на сайте shitcompany.org ... Яндекс Маркет — https://ya.cc/4dS7iw ... Xiaomi RedmiBook Pro 15 2022. Вот небольшой список недочетов. 1. \"Все важные порты\" — меня лично изрядно раздражает манера брать все худшее у огрызков, в частности — убирать \"лишние\" порты. Изучаете отзывы про ONEPLUS 12R - СКРОМНЫЙ ПОЛУФЛАГМАН С БОЛЬШОЙ БАТАРЕЕЙ!? Почитайте свежие реальные отзывы от имени бывших сотрудников на сайте shitcompany.org ... Яндекс Умный дом как поделиться ...'"
      ]
     },
     "execution_count": 23,
     "metadata": {},
     "output_type": "execute_result"
    }
   ],
   "source": [
    "search.run(query='яндекс маркет отзывы Xiaomi 14')"
   ]
  },
  {
   "cell_type": "code",
   "execution_count": null,
   "id": "0dfa53d3-ba04-4dcb-adb4-83374a5d01d1",
   "metadata": {},
   "outputs": [],
   "source": []
  }
 ],
 "metadata": {
  "kernelspec": {
   "display_name": "Python 3 (ipykernel)",
   "language": "python",
   "name": "python3"
  },
  "language_info": {
   "codemirror_mode": {
    "name": "ipython",
    "version": 3
   },
   "file_extension": ".py",
   "mimetype": "text/x-python",
   "name": "python",
   "nbconvert_exporter": "python",
   "pygments_lexer": "ipython3",
   "version": "3.10.13"
  }
 },
 "nbformat": 4,
 "nbformat_minor": 5
}
